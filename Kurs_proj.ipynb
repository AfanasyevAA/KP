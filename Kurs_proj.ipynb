{
 "cells": [
  {
   "cell_type": "code",
   "execution_count": 1,
   "id": "ae5760e2",
   "metadata": {},
   "outputs": [],
   "source": [
    "import numpy as np\n",
    "import pandas as pd\n",
    "import keras\n",
    "from keras import models\n",
    "from keras import layers\n",
    "from keras.layers import Dense, Flatten\n",
    "import matplotlib.pyplot as plt"
   ]
  },
  {
   "cell_type": "code",
   "execution_count": 2,
   "id": "6e605b1c",
   "metadata": {},
   "outputs": [],
   "source": [
    "def create_data(path, techpar):\n",
    "    df = pd.read_csv(path , sep = '\\t')\n",
    "    if techpar == '':\n",
    "        df_new = pd.DataFrame()\n",
    "        Permx = df[\"PERMX\"].tolist()\n",
    "        Permy = df[\"PERMY\"].tolist()\n",
    "        Permz = df[\"PERMZ\"].tolist()\n",
    "        Dates = df[\"Dates\"].tolist()\n",
    "        df_new.insert(0, \"PERMX\", Permx, True)\n",
    "        df_new.insert(1, \"PERMY\", Permy, True)\n",
    "        df_new.insert(2, \"PERMZ\", Permz, True)\n",
    "        df_new.insert(3, \"Dates\", Dates, True)\n",
    "        data = df_new.to_numpy()  \n",
    "        return data\n",
    "    else:\n",
    "        Par = df[techpar].tolist()\n",
    "        targets = np.array(Par)\n",
    "        return targets\n",
    "\n",
    "def data_preparation(train, test):\n",
    "    mean = train.mean(axis=0)\n",
    "    train -= mean\n",
    "    std = train.std(axis=0)\n",
    "    train /= std\n",
    "    \n",
    "    test -= mean\n",
    "    test /= std\n",
    "\n",
    "    return test, train\n",
    "\n",
    "def create_model():\n",
    "    model = keras.Sequential()\n",
    "    model.add(layers.Dense(16, activation = 'relu',\n",
    "                        input_shape = (train_data.shape[1],)))\n",
    "    model.add(layers.Dense(16, activation = 'relu'))\n",
    "    model.add(layers.Dense(1))\n",
    "\n",
    "    model.compile(optimizer = 'rmsprop', loss = 'mse', metrics = ['mae'])\n",
    "\n",
    "    \"\"\"\n",
    "    model = keras.Sequential([\n",
    "        Flatten(input_shape = (train_data.shape[1],)),\n",
    "        Dense(16, activation = 'relu'),\n",
    "        Dense(16, activation = 'relu')\n",
    "    ])\n",
    "    \"\"\"\n",
    "    return model"
   ]
  },
  {
   "cell_type": "code",
   "execution_count": 3,
   "id": "540a5e6c",
   "metadata": {},
   "outputs": [],
   "source": [
    "path_train = r'train_with_date.txt'\n",
    "path_test = r'test_with_date.txt'              \n",
    "train_data = create_data(path_train, '')\n",
    "test_data = create_data(path_test, '')\n",
    "parameter = 'Qcum_oil(m3)'\n",
    "train_targets = create_data(path_train, parameter )\n",
    "test_targets = create_data(path_test, parameter )\n",
    "\n",
    "train_data = data_preparation(train_data, test_data)[1]\n",
    "test_data = data_preparation(train_data, test_data)[0]"
   ]
  },
  {
   "cell_type": "code",
   "execution_count": 4,
   "id": "2a9b8973",
   "metadata": {},
   "outputs": [
    {
     "name": "stdout",
     "output_type": "stream",
     "text": [
      "--Processing--\n",
      "--Processing--\n",
      "--Processing--\n",
      "--Processing--\n",
      "Complete\n"
     ]
    }
   ],
   "source": [
    "k = 4\n",
    "num_val_samples = len(train_data)// k\n",
    "all_scores = []\n",
    "num_epochs = 500\n",
    "all_mae_histories = []\n",
    "for i in range(k):\n",
    "    print('--Processing--')\n",
    "    val_data = train_data[i * num_val_samples:(i + 1) * num_val_samples]\n",
    "    val_targets = train_targets[i * num_val_samples:(i + 1) * num_val_samples]\n",
    "\n",
    "    partial_train_data = np.concatenate(\n",
    "        [train_data[:i * num_val_samples],\n",
    "         train_data[(i + 1) * num_val_samples:]],\n",
    "        axis=0)\n",
    "    patrial_train_targets = np.concatenate(\n",
    "        [train_targets[:i * num_val_samples],\n",
    "         train_targets[(i + 1) * num_val_samples:]],\n",
    "        axis=0)\n",
    "    \n",
    "    model = create_model()\n",
    "    history = model.fit(partial_train_data, patrial_train_targets,\n",
    "                        validation_data=(val_data, val_targets),\n",
    "                        epochs = num_epochs, batch_size = 1, verbose = 0)\n",
    "\n",
    "    mae_history = history.history[\"val_mae\"]\n",
    "    all_mae_histories.append(mae_history)\n",
    "print('Complete')"
   ]
  },
  {
   "cell_type": "code",
   "execution_count": 5,
   "id": "fb248207",
   "metadata": {},
   "outputs": [],
   "source": [
    "avarage_mae_history = [np.mean(\n",
    "    [x[i] for x in all_mae_histories]) for i in range(num_epochs)]"
   ]
  },
  {
   "cell_type": "code",
   "execution_count": 6,
   "id": "c4b17b94",
   "metadata": {},
   "outputs": [
    {
     "data": {
      "image/png": "[encoded data removed]",
      "text/plain": [
       "<Figure size 432x288 with 1 Axes>"
      ]
     },
     "metadata": {
      "needs_background": "light"
     },
     "output_type": "display_data"
    }
   ],
   "source": [
    "plt.plot(range(0, len(avarage_mae_history)-15), avarage_mae_history[15:])\n",
    "plt.xlabel('Epochs')\n",
    "plt.ylabel('Val MAE')\n",
    "plt.show()"
   ]
  },
  {
   "cell_type": "code",
   "execution_count": 11,
   "id": "521741b7",
   "metadata": {},
   "outputs": [],
   "source": [
    "if parameter == 'Qoil(m3\\day)' or 'Qoil(t\\day)' or 'Qliq(m3\\day)':\n",
    "    num_epochs = 250\n",
    "else: num_epochs = 100\n",
    "    \n",
    "\n",
    "#model = create_model()\n",
    "#model.fit(train_data, train_targets,\n",
    " #         epochs = num_epochs, batch_size = 1, verbose = 0,\n",
    "  #        validation_split = 0.2)"
   ]
  },
  {
   "cell_type": "code",
   "execution_count": null,
   "id": "3d95f8a6",
   "metadata": {},
   "outputs": [
    {
     "name": "stdout",
     "output_type": "stream",
     "text": [
      "--Processing-- 1\n",
      "--Processing-- 2\n"
     ]
    }
   ],
   "source": [
    "k = 4\n",
    "num_val_samples = len(train_data)// k\n",
    "all_scores = []\n",
    "for i in range(k):\n",
    "    print('--Processing--', i+1)\n",
    "    val_data = train_data[i * num_val_samples:(i + 1) * num_val_samples]\n",
    "    val_targets = train_targets[i * num_val_samples:(i + 1) * num_val_samples]\n",
    "\n",
    "    partial_train_data = np.concatenate(\n",
    "        [train_data[:i * num_val_samples],\n",
    "         train_data[(i + 1) * num_val_samples:]],\n",
    "        axis=0)\n",
    "    patrial_train_targets = np.concatenate(\n",
    "        [train_targets[:i * num_val_samples],\n",
    "         train_targets[(i + 1) * num_val_samples:]],\n",
    "        axis=0)\n",
    "    model = create_model()\n",
    "    model.fit(partial_train_data, patrial_train_targets,\n",
    "              epochs = num_epochs, batch_size = 1, verbose = 0)\n",
    "\n",
    "    val_mse, val_mae = model.evaluate(val_data, val_targets, verbose=0)\n",
    "    all_scores.append(val_mae)\n",
    "print('Complete')"
   ]
  },
  {
   "cell_type": "code",
   "execution_count": null,
   "id": "76083f93",
   "metadata": {},
   "outputs": [],
   "source": [
    "print(all_scores)"
   ]
  },
  {
   "cell_type": "code",
   "execution_count": null,
   "id": "3ae9899d",
   "metadata": {},
   "outputs": [],
   "source": [
    "mae = model.evaluate(test_data, test_targets, verbose=0)[1]\n",
    "mae"
   ]
  },
  {
   "cell_type": "code",
   "execution_count": null,
   "id": "9db42d48",
   "metadata": {},
   "outputs": [],
   "source": [
    "y1 = model.predict(test_data)"
   ]
  },
  {
   "cell_type": "code",
   "execution_count": null,
   "id": "863de179",
   "metadata": {},
   "outputs": [],
   "source": [
    "y2 = np.array(test_targets).tolist()"
   ]
  },
  {
   "cell_type": "code",
   "execution_count": null,
   "id": "9c70fdd8",
   "metadata": {},
   "outputs": [],
   "source": [
    "plt.plot(range(0, len(y1)), y1, label = 'Нейросеть')\n",
    "plt.plot(range(0, len(y2)), y2, label = 'Тестовые данные')\n",
    "plt.ylabel(parameter)\n",
    "plt.legend()\n",
    "plt.show()"
   ]
  },
  {
   "cell_type": "code",
   "execution_count": null,
   "id": "0ee7b50f",
   "metadata": {},
   "outputs": [],
   "source": [
    "n = 3\n",
    "x = np.expand_dims(test_data[n], axis = 0)\n",
    "res = model.predict(x)\n",
    "print(res)"
   ]
  },
  {
   "cell_type": "code",
   "execution_count": null,
   "id": "4b607493",
   "metadata": {},
   "outputs": [],
   "source": [
    "print(test_targets[n])"
   ]
  },
  {
   "cell_type": "code",
   "execution_count": null,
   "id": "356dce66",
   "metadata": {},
   "outputs": [],
   "source": [
    "print(test_data[n])"
   ]
  }
 ],
 "metadata": {
  "kernelspec": {
   "display_name": "Python 3",
   "language": "python",
   "name": "python3"
  },
  "language_info": {
   "codemirror_mode": {
    "name": "ipython",
    "version": 3
   },
   "file_extension": ".py",
   "mimetype": "text/x-python",
   "name": "python",
   "nbconvert_exporter": "python",
   "pygments_lexer": "ipython3",
   "version": "3.9.2"
  }
 },
 "nbformat": 4,
 "nbformat_minor": 5
}
